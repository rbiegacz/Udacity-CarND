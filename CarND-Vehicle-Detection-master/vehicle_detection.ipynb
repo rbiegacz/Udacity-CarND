{
 "cells": [
  {
   "cell_type": "markdown",
   "metadata": {},
   "source": [
    "## Advanced Lane Finding + Vehicle Detection Project\n",
    "\n",
    "This project is a combination of Advanced Lane Finding and Vehicle Detection.\n",
    "\n",
    "\n",
    "\n",
    "* Compute the camera calibration matrix and distortion coefficients given a set of chessboard images.\n",
    "* Apply a distortion correction to raw images.\n",
    "* Use color transforms, gradients, etc., to create a thresholded binary image.\n",
    "* Apply a perspective transform to rectify binary image (\"birds-eye view\").\n",
    "* Detect lane pixels and fit to find the lane boundary.\n",
    "* Determine the curvature of the lane and vehicle position with respect to center.\n",
    "* Warp the detected lane boundaries back onto the original image.\n",
    "* Output visual display of the lane boundaries and numerical estimation of lane curvature and vehicle position.\n",
    "\n",
    "---"
   ]
  },
  {
   "cell_type": "code",
   "execution_count": null,
   "metadata": {},
   "outputs": [],
   "source": [
    "import importlib\n",
    "import numpy as np\n",
    "import cv2\n",
    "import matplotlib\n",
    "import matplotlib.pyplot as plt\n",
    "import matplotlib.image as mpimg\n",
    "from roadlanes import draw_lane\n",
    "import roadlanes\n",
    "import adv_lane_lines\n",
    "import searchlines\n",
    "import perspectivetransform\n",
    "import correctcamera\n",
    "import object_detection_findmatches\n",
    "from glob import glob\n",
    "import object_detection_utils\n",
    "import object_detection_colorspaces\n",
    "import object_detection_fecvector\n",
    "import object_detection_car_notcar"
   ]
  },
  {
   "cell_type": "code",
   "execution_count": null,
   "metadata": {},
   "outputs": [],
   "source": [
    "importlib.reload(adv_lane_lines)\n",
    "importlib.reload(roadlanes)\n",
    "importlib.reload(searchlines)\n",
    "importlib.reload(perspectivetransform)\n",
    "importlib.reload(correctcamera)"
   ]
  },
  {
   "cell_type": "markdown",
   "metadata": {},
   "source": [
    "# Object Finding - using various methods"
   ]
  },
  {
   "cell_type": "markdown",
   "metadata": {},
   "source": [
    "## This method uses historgrams of different colors to identify a pattern characteristic for an object"
   ]
  },
  {
   "cell_type": "code",
   "execution_count": null,
   "metadata": {},
   "outputs": [],
   "source": [
    "importlib.reload(object_detection_utils)\n",
    "object_detection_utils.main_histogram()"
   ]
  },
  {
   "cell_type": "markdown",
   "metadata": {},
   "source": [
    "## Using color spaces and clustering to discover objects"
   ]
  },
  {
   "cell_type": "code",
   "execution_count": null,
   "metadata": {},
   "outputs": [],
   "source": [
    "import object_detection_colorspaces\n",
    "importlib.reload(object_detection_colorspaces)\n",
    "object_detection_colorspaces.main_color_spaces()"
   ]
  },
  {
   "cell_type": "markdown",
   "metadata": {},
   "source": [
    "## Object detection using template matching"
   ]
  },
  {
   "cell_type": "code",
   "execution_count": null,
   "metadata": {
    "scrolled": true
   },
   "outputs": [],
   "source": [
    "import object_detection_findmatches\n",
    "importlib.reload(object_detection_findmatches)\n",
    "object_detection_findmatches.main_drawboxes()"
   ]
  },
  {
   "cell_type": "code",
   "execution_count": null,
   "metadata": {},
   "outputs": [],
   "source": [
    "## using feature vector approach for pictures of lower resolution"
   ]
  },
  {
   "cell_type": "code",
   "execution_count": null,
   "metadata": {},
   "outputs": [],
   "source": [
    "import object_detection_fecvector\n",
    "importlib.reload(object_detection_fecvector)\n",
    "object_detection_fecvector.main_fecvector()"
   ]
  },
  {
   "cell_type": "code",
   "execution_count": null,
   "metadata": {},
   "outputs": [],
   "source": [
    "## Image dataset analysis: cars vs. non-cars"
   ]
  },
  {
   "cell_type": "code",
   "execution_count": null,
   "metadata": {},
   "outputs": [],
   "source": [
    "import object_detection_car_notcar\n",
    "importlib.reload(object_detection_car_notcar)\n",
    "object_detection_car_notcar.main_look_for_car()"
   ]
  },
  {
   "cell_type": "code",
   "execution_count": null,
   "metadata": {},
   "outputs": [],
   "source": [
    "import object_detection_hog_features"
   ]
  },
  {
   "cell_type": "markdown",
   "metadata": {},
   "source": [
    "# Image data Exploration\n",
    "\n",
    "# Let's see what kind of images we have for vehicles and non-vehicle objects"
   ]
  },
  {
   "cell_type": "code",
   "execution_count": null,
   "metadata": {},
   "outputs": [],
   "source": [
    "car_images = glob('util_images/vehicles/**/*.png')\n",
    "noncar_images = glob('util_images/non-vehicles/**/*.png')"
   ]
  },
  {
   "cell_type": "code",
   "execution_count": null,
   "metadata": {},
   "outputs": [],
   "source": [
    "fig, axs = plt.subplots(4, 4, figsize=(16, 16))\n",
    "axs = axs.ravel()\n",
    "\n",
    "for i in np.arange(8):\n",
    "    img = cv2.imread(noncar_images[np.random.randint(0,len(noncar_images))])\n",
    "    img = cv2.cvtColor(img,cv2.COLOR_BGR2RGB)\n",
    "    axs[i].axis('off')\n",
    "    axs[i].set_title('a non-vehicle object', fontsize=10)\n",
    "    axs[i].imshow(img)\n",
    "\n",
    "for i in np.arange(8,16):\n",
    "    img = cv2.imread(car_images[np.random.randint(0,len(car_images))])\n",
    "    img = cv2.cvtColor(img,cv2.COLOR_BGR2RGB)\n",
    "    axs[i].axis('off')\n",
    "    axs[i].set_title('a vehicle', fontsize=10)\n",
    "    axs[i].imshow(img)\n",
    "    \n"
   ]
  },
  {
   "cell_type": "code",
   "execution_count": null,
   "metadata": {},
   "outputs": [],
   "source": [
    "print(\"Number of vehicle images: {}\".format(len(car_images)))\n",
    "print(\"Number of non-vehicle images: {}\".format(len(noncar_images)))"
   ]
  },
  {
   "cell_type": "markdown",
   "metadata": {},
   "source": [
    "# Exploring various models and choose the best one"
   ]
  },
  {
   "cell_type": "markdown",
   "metadata": {},
   "source": [
    "## Calculation of models..."
   ]
  },
  {
   "cell_type": "code",
   "execution_count": null,
   "metadata": {},
   "outputs": [],
   "source": [
    "import object_detection_hog_features\n",
    "importlib.reload(object_detection_hog_features)\n",
    "experiments_dict = object_detection_hog_features.main_hog()"
   ]
  },
  {
   "cell_type": "markdown",
   "metadata": {},
   "source": [
    "## Displaying results of calculations for various models..."
   ]
  },
  {
   "cell_type": "code",
   "execution_count": null,
   "metadata": {},
   "outputs": [],
   "source": [
    "importlib.reload(object_detection_hog_features)\n",
    "object_detection_hog_features.print_results(experiments_dict)"
   ]
  },
  {
   "cell_type": "markdown",
   "metadata": {},
   "source": [
    "## Getting results better than specified accuracy"
   ]
  },
  {
   "cell_type": "code",
   "execution_count": null,
   "metadata": {},
   "outputs": [],
   "source": [
    "# getting models with accuacy 0.99 or higher\n",
    "results_best_models = object_detection_hog_features.get_models(experiments_dict, accuracy=0.991)\n",
    "results_best_model = object_detection_hog_features.get_best_model(experiments_dict)\n",
    "object_detection_hog_features.print_results({\"best_model\": results_best_model})"
   ]
  },
  {
   "cell_type": "markdown",
   "metadata": {},
   "source": [
    "# Extracing HOG (Histogram of Oriented Gradients) features for 2 examples"
   ]
  },
  {
   "cell_type": "code",
   "execution_count": null,
   "metadata": {},
   "outputs": [],
   "source": [
    "car_img = mpimg.imread(car_images[5])\n",
    "_, car_dst = object_detection_hog_features.get_hog_features(car_img[:,:,2], 9, 8, 8, vis=True, feature_vec=True)\n",
    "noncar_img = mpimg.imread(noncar_images[5])\n",
    "_, noncar_dst = object_detection_hog_features.get_hog_features(noncar_img[:,:,2], 9, 8, 8, vis=True, feature_vec=True)\n",
    "\n",
    "# Visualize \n",
    "f, ((ax1, ax2), (ax3, ax4)) = plt.subplots(2, 2, figsize=(7,7))\n",
    "f.subplots_adjust(hspace = .4, wspace=.2)\n",
    "ax1.imshow(car_img)\n",
    "ax1.set_title('Car Image', fontsize=16)\n",
    "ax2.imshow(car_dst, cmap='gray')\n",
    "ax2.set_title('Car HOG', fontsize=16)\n",
    "ax3.imshow(noncar_img)\n",
    "ax3.set_title('Non-Car Image', fontsize=16)\n",
    "ax4.imshow(noncar_dst, cmap='gray')\n",
    "ax4.set_title('Non-Car HOG', fontsize=16)"
   ]
  },
  {
   "cell_type": "code",
   "execution_count": null,
   "metadata": {},
   "outputs": [],
   "source": [
    "import object_detection_hog_subsumpling\n",
    "importlib.reload(object_detection_hog_features)\n",
    "importlib.reload(object_detection_hog_subsumpling)"
   ]
  },
  {
   "cell_type": "code",
   "execution_count": null,
   "metadata": {
    "scrolled": true
   },
   "outputs": [],
   "source": [
    "test_img = mpimg.imread('./test_images/test1.jpg')\n",
    "\n",
    "ystart = 400\n",
    "ystop = 656\n",
    "scale = 1.5\n",
    "\n",
    "colorspace = results_best_model['color_item']\n",
    "orient = results_best_model['orient']\n",
    "pix_per_cell = results_best_model['pix_per_cell']\n",
    "cell_per_block = results_best_model['cell_per_block']\n",
    "hog_channel = results_best_model['hog_channel']\n",
    "svc = results_best_model['linearSVC']\n",
    "x_scaler = results_best_model[\"X_scaler\"]\n",
    "spatial_size = results_best_model[\"spatial_size\"]\n",
    "hist_bins = results_best_model[\"hist_bins\"]\n",
    "\n",
    "rectangles = object_detection_hog_subsumpling.find_cars(test_img, ystart, ystop, scale, colorspace, hog_channel, svc, x_scaler, orient, pix_per_cell, cell_per_block, spatial_size, hist_bins)\n",
    "\n",
    "print(len(rectangles), 'rectangles found in image')"
   ]
  },
  {
   "cell_type": "code",
   "execution_count": null,
   "metadata": {},
   "outputs": [],
   "source": [
    "import object_detection_sliding_window\n",
    "importlib.reload(object_detection_utils)\n",
    "importlib.reload(object_detection_sliding_window)\n",
    "object_detection_sliding_window.sliding_window_main()"
   ]
  },
  {
   "cell_type": "code",
   "execution_count": null,
   "metadata": {},
   "outputs": [],
   "source": []
  }
 ],
 "metadata": {
  "anaconda-cloud": {},
  "kernelspec": {
   "display_name": "Python 3",
   "language": "python",
   "name": "python3"
  },
  "language_info": {
   "codemirror_mode": {
    "name": "ipython",
    "version": 3
   },
   "file_extension": ".py",
   "mimetype": "text/x-python",
   "name": "python",
   "nbconvert_exporter": "python",
   "pygments_lexer": "ipython3",
   "version": "3.6.4"
  }
 },
 "nbformat": 4,
 "nbformat_minor": 1
}
